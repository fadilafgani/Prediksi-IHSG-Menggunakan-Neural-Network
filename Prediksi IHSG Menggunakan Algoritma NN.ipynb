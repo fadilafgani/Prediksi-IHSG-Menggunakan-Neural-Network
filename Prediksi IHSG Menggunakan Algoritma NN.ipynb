{
 "cells": [
  {
   "cell_type": "code",
   "execution_count": 4,
   "metadata": {},
   "outputs": [],
   "source": [
    "import pandas as pd\n",
    "import numpy as np\n",
    "from sklearn import preprocessing"
   ]
  },
  {
   "cell_type": "code",
   "execution_count": 5,
   "metadata": {},
   "outputs": [],
   "source": [
    "train_df = pd.read_csv(\"datasaham-train.csv\")"
   ]
  },
  {
   "cell_type": "code",
   "execution_count": 6,
   "metadata": {},
   "outputs": [
    {
     "data": {
      "text/html": [
       "<div>\n",
       "<style scoped>\n",
       "    .dataframe tbody tr th:only-of-type {\n",
       "        vertical-align: middle;\n",
       "    }\n",
       "\n",
       "    .dataframe tbody tr th {\n",
       "        vertical-align: top;\n",
       "    }\n",
       "\n",
       "    .dataframe thead th {\n",
       "        text-align: right;\n",
       "    }\n",
       "</style>\n",
       "<table border=\"1\" class=\"dataframe\">\n",
       "  <thead>\n",
       "    <tr style=\"text-align: right;\">\n",
       "      <th></th>\n",
       "      <th>Date</th>\n",
       "      <th>Open</th>\n",
       "      <th>High</th>\n",
       "      <th>Low</th>\n",
       "      <th>Close</th>\n",
       "      <th>Adj Close</th>\n",
       "      <th>Volume</th>\n",
       "    </tr>\n",
       "  </thead>\n",
       "  <tbody>\n",
       "    <tr>\n",
       "      <th>0</th>\n",
       "      <td>2005-06-23</td>\n",
       "      <td>1133.857056</td>\n",
       "      <td>1146.598999</td>\n",
       "      <td>1133.411011</td>\n",
       "      <td>1137.423950</td>\n",
       "      <td>1137.423950</td>\n",
       "      <td>8709700.0</td>\n",
       "    </tr>\n",
       "    <tr>\n",
       "      <th>1</th>\n",
       "      <td>2005-06-24</td>\n",
       "      <td>1127.418945</td>\n",
       "      <td>1135.666992</td>\n",
       "      <td>1127.418945</td>\n",
       "      <td>1135.666992</td>\n",
       "      <td>1135.666992</td>\n",
       "      <td>8808200.0</td>\n",
       "    </tr>\n",
       "    <tr>\n",
       "      <th>2</th>\n",
       "      <td>2005-06-27</td>\n",
       "      <td>1129.614014</td>\n",
       "      <td>1130.503052</td>\n",
       "      <td>1116.261963</td>\n",
       "      <td>1119.897949</td>\n",
       "      <td>1119.897949</td>\n",
       "      <td>7461800.0</td>\n",
       "    </tr>\n",
       "    <tr>\n",
       "      <th>3</th>\n",
       "      <td>2005-06-28</td>\n",
       "      <td>1118.026978</td>\n",
       "      <td>1128.066040</td>\n",
       "      <td>1116.336060</td>\n",
       "      <td>1127.817017</td>\n",
       "      <td>1127.817017</td>\n",
       "      <td>8239400.0</td>\n",
       "    </tr>\n",
       "    <tr>\n",
       "      <th>4</th>\n",
       "      <td>2005-06-29</td>\n",
       "      <td>1129.046021</td>\n",
       "      <td>1130.463013</td>\n",
       "      <td>1123.597046</td>\n",
       "      <td>1126.857056</td>\n",
       "      <td>1126.857056</td>\n",
       "      <td>6213200.0</td>\n",
       "    </tr>\n",
       "  </tbody>\n",
       "</table>\n",
       "</div>"
      ],
      "text/plain": [
       "         Date         Open         High          Low        Close  \\\n",
       "0  2005-06-23  1133.857056  1146.598999  1133.411011  1137.423950   \n",
       "1  2005-06-24  1127.418945  1135.666992  1127.418945  1135.666992   \n",
       "2  2005-06-27  1129.614014  1130.503052  1116.261963  1119.897949   \n",
       "3  2005-06-28  1118.026978  1128.066040  1116.336060  1127.817017   \n",
       "4  2005-06-29  1129.046021  1130.463013  1123.597046  1126.857056   \n",
       "\n",
       "     Adj Close     Volume  \n",
       "0  1137.423950  8709700.0  \n",
       "1  1135.666992  8808200.0  \n",
       "2  1119.897949  7461800.0  \n",
       "3  1127.817017  8239400.0  \n",
       "4  1126.857056  6213200.0  "
      ]
     },
     "execution_count": 6,
     "metadata": {},
     "output_type": "execute_result"
    }
   ],
   "source": [
    "train_df.head()"
   ]
  },
  {
   "cell_type": "code",
   "execution_count": 7,
   "metadata": {},
   "outputs": [],
   "source": [
    "df = train_df.dropna()"
   ]
  },
  {
   "cell_type": "code",
   "execution_count": 8,
   "metadata": {},
   "outputs": [],
   "source": [
    "data = df.drop(columns=['Date'])"
   ]
  },
  {
   "cell_type": "code",
   "execution_count": 9,
   "metadata": {},
   "outputs": [
    {
     "data": {
      "text/html": [
       "<div>\n",
       "<style scoped>\n",
       "    .dataframe tbody tr th:only-of-type {\n",
       "        vertical-align: middle;\n",
       "    }\n",
       "\n",
       "    .dataframe tbody tr th {\n",
       "        vertical-align: top;\n",
       "    }\n",
       "\n",
       "    .dataframe thead th {\n",
       "        text-align: right;\n",
       "    }\n",
       "</style>\n",
       "<table border=\"1\" class=\"dataframe\">\n",
       "  <thead>\n",
       "    <tr style=\"text-align: right;\">\n",
       "      <th></th>\n",
       "      <th>Open</th>\n",
       "      <th>High</th>\n",
       "      <th>Low</th>\n",
       "      <th>Close</th>\n",
       "      <th>Adj Close</th>\n",
       "      <th>Volume</th>\n",
       "    </tr>\n",
       "  </thead>\n",
       "  <tbody>\n",
       "    <tr>\n",
       "      <th>0</th>\n",
       "      <td>1133.857056</td>\n",
       "      <td>1146.598999</td>\n",
       "      <td>1133.411011</td>\n",
       "      <td>1137.423950</td>\n",
       "      <td>1137.423950</td>\n",
       "      <td>8709700.0</td>\n",
       "    </tr>\n",
       "    <tr>\n",
       "      <th>1</th>\n",
       "      <td>1127.418945</td>\n",
       "      <td>1135.666992</td>\n",
       "      <td>1127.418945</td>\n",
       "      <td>1135.666992</td>\n",
       "      <td>1135.666992</td>\n",
       "      <td>8808200.0</td>\n",
       "    </tr>\n",
       "    <tr>\n",
       "      <th>2</th>\n",
       "      <td>1129.614014</td>\n",
       "      <td>1130.503052</td>\n",
       "      <td>1116.261963</td>\n",
       "      <td>1119.897949</td>\n",
       "      <td>1119.897949</td>\n",
       "      <td>7461800.0</td>\n",
       "    </tr>\n",
       "    <tr>\n",
       "      <th>3</th>\n",
       "      <td>1118.026978</td>\n",
       "      <td>1128.066040</td>\n",
       "      <td>1116.336060</td>\n",
       "      <td>1127.817017</td>\n",
       "      <td>1127.817017</td>\n",
       "      <td>8239400.0</td>\n",
       "    </tr>\n",
       "    <tr>\n",
       "      <th>4</th>\n",
       "      <td>1129.046021</td>\n",
       "      <td>1130.463013</td>\n",
       "      <td>1123.597046</td>\n",
       "      <td>1126.857056</td>\n",
       "      <td>1126.857056</td>\n",
       "      <td>6213200.0</td>\n",
       "    </tr>\n",
       "  </tbody>\n",
       "</table>\n",
       "</div>"
      ],
      "text/plain": [
       "          Open         High          Low        Close    Adj Close     Volume\n",
       "0  1133.857056  1146.598999  1133.411011  1137.423950  1137.423950  8709700.0\n",
       "1  1127.418945  1135.666992  1127.418945  1135.666992  1135.666992  8808200.0\n",
       "2  1129.614014  1130.503052  1116.261963  1119.897949  1119.897949  7461800.0\n",
       "3  1118.026978  1128.066040  1116.336060  1127.817017  1127.817017  8239400.0\n",
       "4  1129.046021  1130.463013  1123.597046  1126.857056  1126.857056  6213200.0"
      ]
     },
     "execution_count": 9,
     "metadata": {},
     "output_type": "execute_result"
    }
   ],
   "source": [
    "data.head()"
   ]
  },
  {
   "cell_type": "code",
   "execution_count": 10,
   "metadata": {},
   "outputs": [],
   "source": [
    "data_close = df[['Close']]"
   ]
  },
  {
   "cell_type": "code",
   "execution_count": 11,
   "metadata": {},
   "outputs": [],
   "source": [
    "df = (data-data.min()) / (data.max()-data.min())"
   ]
  },
  {
   "cell_type": "code",
   "execution_count": 12,
   "metadata": {},
   "outputs": [
    {
     "data": {
      "text/html": [
       "<div>\n",
       "<style scoped>\n",
       "    .dataframe tbody tr th:only-of-type {\n",
       "        vertical-align: middle;\n",
       "    }\n",
       "\n",
       "    .dataframe tbody tr th {\n",
       "        vertical-align: top;\n",
       "    }\n",
       "\n",
       "    .dataframe thead th {\n",
       "        text-align: right;\n",
       "    }\n",
       "</style>\n",
       "<table border=\"1\" class=\"dataframe\">\n",
       "  <thead>\n",
       "    <tr style=\"text-align: right;\">\n",
       "      <th></th>\n",
       "      <th>Open</th>\n",
       "      <th>High</th>\n",
       "      <th>Low</th>\n",
       "      <th>Close</th>\n",
       "      <th>Adj Close</th>\n",
       "      <th>Volume</th>\n",
       "    </tr>\n",
       "  </thead>\n",
       "  <tbody>\n",
       "    <tr>\n",
       "      <th>0</th>\n",
       "      <td>0.027286</td>\n",
       "      <td>0.021819</td>\n",
       "      <td>0.032057</td>\n",
       "      <td>0.025051</td>\n",
       "      <td>0.025051</td>\n",
       "      <td>0.000890</td>\n",
       "    </tr>\n",
       "    <tr>\n",
       "      <th>1</th>\n",
       "      <td>0.026159</td>\n",
       "      <td>0.019891</td>\n",
       "      <td>0.031003</td>\n",
       "      <td>0.024743</td>\n",
       "      <td>0.024743</td>\n",
       "      <td>0.000900</td>\n",
       "    </tr>\n",
       "    <tr>\n",
       "      <th>2</th>\n",
       "      <td>0.026543</td>\n",
       "      <td>0.018980</td>\n",
       "      <td>0.029040</td>\n",
       "      <td>0.021973</td>\n",
       "      <td>0.021973</td>\n",
       "      <td>0.000762</td>\n",
       "    </tr>\n",
       "    <tr>\n",
       "      <th>3</th>\n",
       "      <td>0.024513</td>\n",
       "      <td>0.018550</td>\n",
       "      <td>0.029053</td>\n",
       "      <td>0.023364</td>\n",
       "      <td>0.023364</td>\n",
       "      <td>0.000842</td>\n",
       "    </tr>\n",
       "    <tr>\n",
       "      <th>4</th>\n",
       "      <td>0.026443</td>\n",
       "      <td>0.018973</td>\n",
       "      <td>0.030330</td>\n",
       "      <td>0.023195</td>\n",
       "      <td>0.023195</td>\n",
       "      <td>0.000635</td>\n",
       "    </tr>\n",
       "  </tbody>\n",
       "</table>\n",
       "</div>"
      ],
      "text/plain": [
       "       Open      High       Low     Close  Adj Close    Volume\n",
       "0  0.027286  0.021819  0.032057  0.025051   0.025051  0.000890\n",
       "1  0.026159  0.019891  0.031003  0.024743   0.024743  0.000900\n",
       "2  0.026543  0.018980  0.029040  0.021973   0.021973  0.000762\n",
       "3  0.024513  0.018550  0.029053  0.023364   0.023364  0.000842\n",
       "4  0.026443  0.018973  0.030330  0.023195   0.023195  0.000635"
      ]
     },
     "execution_count": 12,
     "metadata": {},
     "output_type": "execute_result"
    }
   ],
   "source": [
    "df.head(5)"
   ]
  },
  {
   "cell_type": "code",
   "execution_count": 13,
   "metadata": {},
   "outputs": [],
   "source": [
    "train_x = df\n",
    "train_y = df[['Close']] "
   ]
  },
  {
   "cell_type": "code",
   "execution_count": 14,
   "metadata": {},
   "outputs": [
    {
     "data": {
      "text/html": [
       "<div>\n",
       "<style scoped>\n",
       "    .dataframe tbody tr th:only-of-type {\n",
       "        vertical-align: middle;\n",
       "    }\n",
       "\n",
       "    .dataframe tbody tr th {\n",
       "        vertical-align: top;\n",
       "    }\n",
       "\n",
       "    .dataframe thead th {\n",
       "        text-align: right;\n",
       "    }\n",
       "</style>\n",
       "<table border=\"1\" class=\"dataframe\">\n",
       "  <thead>\n",
       "    <tr style=\"text-align: right;\">\n",
       "      <th></th>\n",
       "      <th>Open</th>\n",
       "      <th>High</th>\n",
       "      <th>Low</th>\n",
       "      <th>Close</th>\n",
       "      <th>Adj Close</th>\n",
       "      <th>Volume</th>\n",
       "    </tr>\n",
       "  </thead>\n",
       "  <tbody>\n",
       "    <tr>\n",
       "      <th>0</th>\n",
       "      <td>0.027286</td>\n",
       "      <td>0.021819</td>\n",
       "      <td>0.032057</td>\n",
       "      <td>0.025051</td>\n",
       "      <td>0.025051</td>\n",
       "      <td>0.000890</td>\n",
       "    </tr>\n",
       "    <tr>\n",
       "      <th>1</th>\n",
       "      <td>0.026159</td>\n",
       "      <td>0.019891</td>\n",
       "      <td>0.031003</td>\n",
       "      <td>0.024743</td>\n",
       "      <td>0.024743</td>\n",
       "      <td>0.000900</td>\n",
       "    </tr>\n",
       "    <tr>\n",
       "      <th>2</th>\n",
       "      <td>0.026543</td>\n",
       "      <td>0.018980</td>\n",
       "      <td>0.029040</td>\n",
       "      <td>0.021973</td>\n",
       "      <td>0.021973</td>\n",
       "      <td>0.000762</td>\n",
       "    </tr>\n",
       "    <tr>\n",
       "      <th>3</th>\n",
       "      <td>0.024513</td>\n",
       "      <td>0.018550</td>\n",
       "      <td>0.029053</td>\n",
       "      <td>0.023364</td>\n",
       "      <td>0.023364</td>\n",
       "      <td>0.000842</td>\n",
       "    </tr>\n",
       "    <tr>\n",
       "      <th>4</th>\n",
       "      <td>0.026443</td>\n",
       "      <td>0.018973</td>\n",
       "      <td>0.030330</td>\n",
       "      <td>0.023195</td>\n",
       "      <td>0.023195</td>\n",
       "      <td>0.000635</td>\n",
       "    </tr>\n",
       "  </tbody>\n",
       "</table>\n",
       "</div>"
      ],
      "text/plain": [
       "       Open      High       Low     Close  Adj Close    Volume\n",
       "0  0.027286  0.021819  0.032057  0.025051   0.025051  0.000890\n",
       "1  0.026159  0.019891  0.031003  0.024743   0.024743  0.000900\n",
       "2  0.026543  0.018980  0.029040  0.021973   0.021973  0.000762\n",
       "3  0.024513  0.018550  0.029053  0.023364   0.023364  0.000842\n",
       "4  0.026443  0.018973  0.030330  0.023195   0.023195  0.000635"
      ]
     },
     "execution_count": 14,
     "metadata": {},
     "output_type": "execute_result"
    }
   ],
   "source": [
    "train_x.head()"
   ]
  },
  {
   "cell_type": "code",
   "execution_count": 15,
   "metadata": {},
   "outputs": [
    {
     "data": {
      "text/html": [
       "<div>\n",
       "<style scoped>\n",
       "    .dataframe tbody tr th:only-of-type {\n",
       "        vertical-align: middle;\n",
       "    }\n",
       "\n",
       "    .dataframe tbody tr th {\n",
       "        vertical-align: top;\n",
       "    }\n",
       "\n",
       "    .dataframe thead th {\n",
       "        text-align: right;\n",
       "    }\n",
       "</style>\n",
       "<table border=\"1\" class=\"dataframe\">\n",
       "  <thead>\n",
       "    <tr style=\"text-align: right;\">\n",
       "      <th></th>\n",
       "      <th>Close</th>\n",
       "    </tr>\n",
       "  </thead>\n",
       "  <tbody>\n",
       "    <tr>\n",
       "      <th>0</th>\n",
       "      <td>0.025051</td>\n",
       "    </tr>\n",
       "    <tr>\n",
       "      <th>1</th>\n",
       "      <td>0.024743</td>\n",
       "    </tr>\n",
       "    <tr>\n",
       "      <th>2</th>\n",
       "      <td>0.021973</td>\n",
       "    </tr>\n",
       "    <tr>\n",
       "      <th>3</th>\n",
       "      <td>0.023364</td>\n",
       "    </tr>\n",
       "    <tr>\n",
       "      <th>4</th>\n",
       "      <td>0.023195</td>\n",
       "    </tr>\n",
       "  </tbody>\n",
       "</table>\n",
       "</div>"
      ],
      "text/plain": [
       "      Close\n",
       "0  0.025051\n",
       "1  0.024743\n",
       "2  0.021973\n",
       "3  0.023364\n",
       "4  0.023195"
      ]
     },
     "execution_count": 15,
     "metadata": {},
     "output_type": "execute_result"
    }
   ],
   "source": [
    "train_y.head()"
   ]
  },
  {
   "cell_type": "code",
   "execution_count": 16,
   "metadata": {},
   "outputs": [],
   "source": [
    "from tensorflow.keras.models import Sequential\n",
    "from tensorflow.keras.layers import Dense\n",
    "from tensorflow.keras.callbacks import EarlyStopping\n",
    "from tensorflow.keras.layers import Dropout\n",
    "from tensorflow.keras.models import load_model"
   ]
  },
  {
   "cell_type": "code",
   "execution_count": 17,
   "metadata": {},
   "outputs": [],
   "source": [
    "#membuat model\n",
    "regressor = Sequential()"
   ]
  },
  {
   "cell_type": "code",
   "execution_count": 18,
   "metadata": {},
   "outputs": [],
   "source": [
    "#get number of columns in training data\n",
    "n_cols = train_x.shape[1]"
   ]
  },
  {
   "cell_type": "code",
   "execution_count": 19,
   "metadata": {},
   "outputs": [],
   "source": [
    "#adding the input layer and the first hidden layer and drop our regularization\n",
    "regressor.add(Dense(units = 500, kernel_initializer = 'uniform', activation = 'relu', input_shape=(n_cols,)))\n",
    "regressor.add(Dropout(.2))"
   ]
  },
  {
   "cell_type": "code",
   "execution_count": 20,
   "metadata": {},
   "outputs": [],
   "source": [
    "#adding the output layer\n",
    "regressor.add(Dense(units = 1, kernel_initializer = 'uniform', activation = 'sigmoid'))"
   ]
  },
  {
   "cell_type": "code",
   "execution_count": 21,
   "metadata": {},
   "outputs": [],
   "source": [
    "#compiling the NN\n",
    "regressor.compile(optimizer = 'adam', loss = 'mean_squared_error')"
   ]
  },
  {
   "cell_type": "code",
   "execution_count": 22,
   "metadata": {},
   "outputs": [
    {
     "name": "stdout",
     "output_type": "stream",
     "text": [
      "Epoch 1/50\n",
      "80/80 [==============================] - 3s 9ms/step - loss: 0.0368 - val_loss: 0.0027\n",
      "Epoch 2/50\n",
      "80/80 [==============================] - 0s 3ms/step - loss: 0.0020 - val_loss: 9.5586e-04\n",
      "Epoch 3/50\n",
      "80/80 [==============================] - 0s 3ms/step - loss: 0.0012 - val_loss: 0.0012\n",
      "Epoch 4/50\n",
      "80/80 [==============================] - 0s 3ms/step - loss: 6.7225e-04 - val_loss: 0.0021\n",
      "Epoch 5/50\n",
      "80/80 [==============================] - 0s 3ms/step - loss: 4.6352e-04 - val_loss: 0.0026\n",
      "Epoch 6/50\n",
      "80/80 [==============================] - 0s 3ms/step - loss: 3.2256e-04 - val_loss: 0.0035\n",
      "Epoch 7/50\n",
      "80/80 [==============================] - 0s 3ms/step - loss: 2.4551e-04 - val_loss: 0.0043\n",
      "Epoch 8/50\n",
      "80/80 [==============================] - 0s 3ms/step - loss: 2.1647e-04 - val_loss: 0.0058\n",
      "Epoch 9/50\n",
      "80/80 [==============================] - 0s 3ms/step - loss: 1.9146e-04 - val_loss: 0.0067\n",
      "Epoch 10/50\n",
      "80/80 [==============================] - 0s 3ms/step - loss: 1.6924e-04 - val_loss: 0.0073\n",
      "Epoch 11/50\n",
      "80/80 [==============================] - 0s 3ms/step - loss: 1.7322e-04 - val_loss: 0.0077\n",
      "Epoch 12/50\n",
      "80/80 [==============================] - 0s 3ms/step - loss: 1.7009e-04 - val_loss: 0.0079\n",
      "Epoch 13/50\n",
      "80/80 [==============================] - 0s 6ms/step - loss: 1.7564e-04 - val_loss: 0.0075\n",
      "Epoch 14/50\n",
      "80/80 [==============================] - 0s 3ms/step - loss: 1.5121e-04 - val_loss: 0.0072\n",
      "Epoch 15/50\n",
      "80/80 [==============================] - 0s 3ms/step - loss: 1.7471e-04 - val_loss: 0.0072\n",
      "Epoch 16/50\n",
      "80/80 [==============================] - 0s 3ms/step - loss: 1.6215e-04 - val_loss: 0.0074\n",
      "Epoch 17/50\n",
      "80/80 [==============================] - 0s 3ms/step - loss: 1.7045e-04 - val_loss: 0.0073\n",
      "Epoch 18/50\n",
      "80/80 [==============================] - 0s 3ms/step - loss: 1.5687e-04 - val_loss: 0.0073\n",
      "Epoch 19/50\n",
      "80/80 [==============================] - 0s 3ms/step - loss: 1.6415e-04 - val_loss: 0.0076\n",
      "Epoch 20/50\n",
      "80/80 [==============================] - 0s 3ms/step - loss: 1.6121e-04 - val_loss: 0.0075\n",
      "Epoch 21/50\n",
      "80/80 [==============================] - 0s 2ms/step - loss: 1.5372e-04 - val_loss: 0.0075\n",
      "Epoch 22/50\n",
      "80/80 [==============================] - 0s 3ms/step - loss: 1.5487e-04 - val_loss: 0.0075\n",
      "Epoch 23/50\n",
      "80/80 [==============================] - 0s 3ms/step - loss: 1.5141e-04 - val_loss: 0.0072\n",
      "Epoch 24/50\n",
      "80/80 [==============================] - 0s 3ms/step - loss: 1.5531e-04 - val_loss: 0.0075\n",
      "Epoch 25/50\n",
      "80/80 [==============================] - 0s 2ms/step - loss: 1.4846e-04 - val_loss: 0.0071\n",
      "Epoch 26/50\n",
      "80/80 [==============================] - 0s 3ms/step - loss: 1.4478e-04 - val_loss: 0.0069\n",
      "Epoch 27/50\n",
      "80/80 [==============================] - 0s 3ms/step - loss: 1.4107e-04 - val_loss: 0.0073\n",
      "Epoch 28/50\n",
      "80/80 [==============================] - 0s 3ms/step - loss: 1.4140e-04 - val_loss: 0.0070\n",
      "Epoch 29/50\n",
      "80/80 [==============================] - 0s 3ms/step - loss: 1.5557e-04 - val_loss: 0.0077\n",
      "Epoch 30/50\n",
      "80/80 [==============================] - 0s 3ms/step - loss: 1.4166e-04 - val_loss: 0.0071\n",
      "Epoch 31/50\n",
      "80/80 [==============================] - 0s 3ms/step - loss: 1.4387e-04 - val_loss: 0.0071\n",
      "Epoch 32/50\n",
      "80/80 [==============================] - 0s 3ms/step - loss: 1.3828e-04 - val_loss: 0.0077\n",
      "Epoch 33/50\n",
      "80/80 [==============================] - 0s 3ms/step - loss: 1.3747e-04 - val_loss: 0.0076\n",
      "Epoch 34/50\n",
      "80/80 [==============================] - 0s 3ms/step - loss: 1.3706e-04 - val_loss: 0.0071\n",
      "Epoch 35/50\n",
      "80/80 [==============================] - 0s 3ms/step - loss: 1.4414e-04 - val_loss: 0.0066\n",
      "Epoch 36/50\n",
      "80/80 [==============================] - 0s 3ms/step - loss: 1.3806e-04 - val_loss: 0.0069\n",
      "Epoch 37/50\n",
      "80/80 [==============================] - 0s 3ms/step - loss: 1.4209e-04 - val_loss: 0.0070\n",
      "Epoch 38/50\n",
      "80/80 [==============================] - 0s 2ms/step - loss: 1.3938e-04 - val_loss: 0.0063\n",
      "Epoch 39/50\n",
      "80/80 [==============================] - 0s 3ms/step - loss: 1.4768e-04 - val_loss: 0.0065\n",
      "Epoch 40/50\n",
      "80/80 [==============================] - 0s 3ms/step - loss: 1.4887e-04 - val_loss: 0.0066\n",
      "Epoch 41/50\n",
      "80/80 [==============================] - 0s 2ms/step - loss: 1.2754e-04 - val_loss: 0.0066\n",
      "Epoch 42/50\n",
      "80/80 [==============================] - 0s 2ms/step - loss: 1.3494e-04 - val_loss: 0.0064\n",
      "Epoch 43/50\n",
      "80/80 [==============================] - 0s 3ms/step - loss: 1.2634e-04 - val_loss: 0.0072\n",
      "Epoch 44/50\n",
      "80/80 [==============================] - 0s 3ms/step - loss: 1.2194e-04 - val_loss: 0.0065\n",
      "Epoch 45/50\n",
      "80/80 [==============================] - 0s 2ms/step - loss: 1.2787e-04 - val_loss: 0.0071\n",
      "Epoch 46/50\n",
      "80/80 [==============================] - 0s 2ms/step - loss: 1.4167e-04 - val_loss: 0.0062\n",
      "Epoch 47/50\n",
      "80/80 [==============================] - 0s 3ms/step - loss: 1.2599e-04 - val_loss: 0.0062\n",
      "Epoch 48/50\n",
      "80/80 [==============================] - ETA: 0s - loss: 1.2001e-0 - 0s 2ms/step - loss: 1.2116e-04 - val_loss: 0.0064\n",
      "Epoch 49/50\n",
      "80/80 [==============================] - 0s 3ms/step - loss: 1.2862e-04 - val_loss: 0.0059\n",
      "Epoch 50/50\n",
      "80/80 [==============================] - 0s 3ms/step - loss: 1.2648e-04 - val_loss: 0.0062\n"
     ]
    },
    {
     "data": {
      "text/plain": [
       "<tensorflow.python.keras.callbacks.History at 0x1289b4878e0>"
      ]
     },
     "execution_count": 22,
     "metadata": {},
     "output_type": "execute_result"
    }
   ],
   "source": [
    "#fitting the NN to the training set\n",
    "regressor.fit(train_x, train_y, validation_split=0.3, epochs =50)"
   ]
  },
  {
   "cell_type": "code",
   "execution_count": 23,
   "metadata": {},
   "outputs": [],
   "source": [
    "#save trained model\n",
    "regressor.save('model.h5')"
   ]
  },
  {
   "cell_type": "code",
   "execution_count": 25,
   "metadata": {},
   "outputs": [],
   "source": [
    "#read in data test using pandas\n",
    "test_df = pd.read_csv('datasaham-test.csv')"
   ]
  },
  {
   "cell_type": "code",
   "execution_count": 26,
   "metadata": {},
   "outputs": [
    {
     "data": {
      "text/html": [
       "<div>\n",
       "<style scoped>\n",
       "    .dataframe tbody tr th:only-of-type {\n",
       "        vertical-align: middle;\n",
       "    }\n",
       "\n",
       "    .dataframe tbody tr th {\n",
       "        vertical-align: top;\n",
       "    }\n",
       "\n",
       "    .dataframe thead th {\n",
       "        text-align: right;\n",
       "    }\n",
       "</style>\n",
       "<table border=\"1\" class=\"dataframe\">\n",
       "  <thead>\n",
       "    <tr style=\"text-align: right;\">\n",
       "      <th></th>\n",
       "      <th>Date</th>\n",
       "      <th>Open</th>\n",
       "      <th>High</th>\n",
       "      <th>Low</th>\n",
       "      <th>Close</th>\n",
       "      <th>Adj Close</th>\n",
       "      <th>Volume</th>\n",
       "    </tr>\n",
       "  </thead>\n",
       "  <tbody>\n",
       "    <tr>\n",
       "      <th>0</th>\n",
       "      <td>2020-06-23</td>\n",
       "      <td>4918.831055</td>\n",
       "      <td>4938.394043</td>\n",
       "      <td>4879.132813</td>\n",
       "      <td>4879.132813</td>\n",
       "      <td>4879.132813</td>\n",
       "      <td>54884300</td>\n",
       "    </tr>\n",
       "    <tr>\n",
       "      <th>1</th>\n",
       "      <td>2020-06-24</td>\n",
       "      <td>4879.132813</td>\n",
       "      <td>4977.650879</td>\n",
       "      <td>4879.132813</td>\n",
       "      <td>4964.734863</td>\n",
       "      <td>4964.734863</td>\n",
       "      <td>62466500</td>\n",
       "    </tr>\n",
       "    <tr>\n",
       "      <th>2</th>\n",
       "      <td>2020-06-25</td>\n",
       "      <td>4964.734863</td>\n",
       "      <td>4964.734863</td>\n",
       "      <td>4883.709961</td>\n",
       "      <td>4896.729980</td>\n",
       "      <td>4896.729980</td>\n",
       "      <td>50705900</td>\n",
       "    </tr>\n",
       "    <tr>\n",
       "      <th>3</th>\n",
       "      <td>2020-06-26</td>\n",
       "      <td>4896.729980</td>\n",
       "      <td>4941.138184</td>\n",
       "      <td>4882.141113</td>\n",
       "      <td>4904.087891</td>\n",
       "      <td>4904.087891</td>\n",
       "      <td>44280300</td>\n",
       "    </tr>\n",
       "    <tr>\n",
       "      <th>4</th>\n",
       "      <td>2020-06-29</td>\n",
       "      <td>4904.087891</td>\n",
       "      <td>4909.905762</td>\n",
       "      <td>4862.041016</td>\n",
       "      <td>4901.817871</td>\n",
       "      <td>4901.817871</td>\n",
       "      <td>44174500</td>\n",
       "    </tr>\n",
       "  </tbody>\n",
       "</table>\n",
       "</div>"
      ],
      "text/plain": [
       "         Date         Open         High          Low        Close  \\\n",
       "0  2020-06-23  4918.831055  4938.394043  4879.132813  4879.132813   \n",
       "1  2020-06-24  4879.132813  4977.650879  4879.132813  4964.734863   \n",
       "2  2020-06-25  4964.734863  4964.734863  4883.709961  4896.729980   \n",
       "3  2020-06-26  4896.729980  4941.138184  4882.141113  4904.087891   \n",
       "4  2020-06-29  4904.087891  4909.905762  4862.041016  4901.817871   \n",
       "\n",
       "     Adj Close    Volume  \n",
       "0  4879.132813  54884300  \n",
       "1  4964.734863  62466500  \n",
       "2  4896.729980  50705900  \n",
       "3  4904.087891  44280300  \n",
       "4  4901.817871  44174500  "
      ]
     },
     "execution_count": 26,
     "metadata": {},
     "output_type": "execute_result"
    }
   ],
   "source": [
    "test_df.head()"
   ]
  },
  {
   "cell_type": "code",
   "execution_count": 27,
   "metadata": {},
   "outputs": [],
   "source": [
    "#delete NaN\n",
    "test_data = test_df.dropna()"
   ]
  },
  {
   "cell_type": "code",
   "execution_count": 28,
   "metadata": {},
   "outputs": [],
   "source": [
    "#drop date\n",
    "test_data = test_df.drop(columns=['Date'])\n",
    "data_test_close = test_df[['Close']]"
   ]
  },
  {
   "cell_type": "code",
   "execution_count": 29,
   "metadata": {},
   "outputs": [],
   "source": [
    "#normalization\n",
    "nor = (test_data-test_data.min())/(test_data.max()-test_data.min())"
   ]
  },
  {
   "cell_type": "code",
   "execution_count": 30,
   "metadata": {},
   "outputs": [],
   "source": [
    "#create a dataframe with all training data except the target columns\n",
    "test_x = nor"
   ]
  },
  {
   "cell_type": "code",
   "execution_count": 31,
   "metadata": {},
   "outputs": [],
   "source": [
    "#create a dataframe with only the target column\n",
    "test_y = nor[['Close']]"
   ]
  },
  {
   "cell_type": "code",
   "execution_count": 32,
   "metadata": {},
   "outputs": [],
   "source": [
    "import matplotlib.pyplot as plt\n",
    "\n",
    "#load trained model\n",
    "regressor = load_model('model.h5')\n",
    "\n",
    "#predict and test the model\n",
    "input_data = test_x.values\n",
    "real_close_price = test_y.values\n",
    "\n",
    "predicted_close_price = regressor.predict(input_data)"
   ]
  },
  {
   "cell_type": "code",
   "execution_count": 33,
   "metadata": {},
   "outputs": [
    {
     "data": {
      "image/png": "[encoded data removed]",
      "text/plain": [
       "<Figure size 432x288 with 1 Axes>"
      ]
     },
     "metadata": {
      "needs_background": "light"
     },
     "output_type": "display_data"
    },
    {
     "name": "stdout",
     "output_type": "stream",
     "text": [
      "Mean Square Error:  0.0012164984542317825\n"
     ]
    }
   ],
   "source": [
    "target = real_close_price[~np.isnan(real_close_price)]\n",
    "predict = predicted_close_price[~np.isnan(real_close_price)]\n",
    "plt.plot(target)\n",
    "plt.plot(predict, '--')\n",
    "plt.title('Stock Price Prediction')\n",
    "plt.xlabel('Index')\n",
    "plt.ylabel('Stock Price')\n",
    "plt.show()\n",
    "\n",
    "def mse(predictions, targets):\n",
    "    return 0.5 * (((predictions - targets) ** 2).mean())\n",
    "\n",
    "#mse = ((real_close_price - predicted_close_price) ** 2).mean(axis=1)\n",
    "print('Mean Square Error: ',mse(predict.flatten(),target.flatten()))"
   ]
  },
  {
   "cell_type": "code",
   "execution_count": null,
   "metadata": {},
   "outputs": [],
   "source": []
  }
 ],
 "metadata": {
  "kernelspec": {
   "display_name": "Python 3",
   "language": "python",
   "name": "python3"
  },
  "language_info": {
   "codemirror_mode": {
    "name": "ipython",
    "version": 3
   },
   "file_extension": ".py",
   "mimetype": "text/x-python",
   "name": "python",
   "nbconvert_exporter": "python",
   "pygments_lexer": "ipython3",
   "version": "3.8.3"
  }
 },
 "nbformat": 4,
 "nbformat_minor": 4
}

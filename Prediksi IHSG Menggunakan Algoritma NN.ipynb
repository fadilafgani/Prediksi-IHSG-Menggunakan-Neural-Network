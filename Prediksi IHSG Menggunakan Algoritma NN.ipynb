{
 "cells": [
  {
   "cell_type": "code",
   "execution_count": 1,
   "metadata": {},
   "outputs": [],
   "source": [
    "import pandas as pd\n",
    "import numpy as np\n",
    "from sklearn import preprocessing"
   ]
  },
  {
   "cell_type": "code",
   "execution_count": 2,
   "metadata": {},
   "outputs": [],
   "source": [
    "train_df = pd.read_csv(\"datasaham_baru.csv\")"
   ]
  },
  {
   "cell_type": "code",
   "execution_count": 3,
   "metadata": {},
   "outputs": [
    {
     "data": {
      "text/html": [
       "<div>\n",
       "<style scoped>\n",
       "    .dataframe tbody tr th:only-of-type {\n",
       "        vertical-align: middle;\n",
       "    }\n",
       "\n",
       "    .dataframe tbody tr th {\n",
       "        vertical-align: top;\n",
       "    }\n",
       "\n",
       "    .dataframe thead th {\n",
       "        text-align: right;\n",
       "    }\n",
       "</style>\n",
       "<table border=\"1\" class=\"dataframe\">\n",
       "  <thead>\n",
       "    <tr style=\"text-align: right;\">\n",
       "      <th></th>\n",
       "      <th>Date</th>\n",
       "      <th>Open</th>\n",
       "      <th>High</th>\n",
       "      <th>Low</th>\n",
       "      <th>Close</th>\n",
       "      <th>Adj Close</th>\n",
       "      <th>Volume</th>\n",
       "    </tr>\n",
       "  </thead>\n",
       "  <tbody>\n",
       "    <tr>\n",
       "      <th>0</th>\n",
       "      <td>2005-01-03</td>\n",
       "      <td>1000.554016</td>\n",
       "      <td>1002.372009</td>\n",
       "      <td>994.531006</td>\n",
       "      <td>1000.877014</td>\n",
       "      <td>1000.847290</td>\n",
       "      <td>4584400.0</td>\n",
       "    </tr>\n",
       "    <tr>\n",
       "      <th>1</th>\n",
       "      <td>2005-01-04</td>\n",
       "      <td>1002.271973</td>\n",
       "      <td>1019.070984</td>\n",
       "      <td>1002.271973</td>\n",
       "      <td>1018.543030</td>\n",
       "      <td>1018.512756</td>\n",
       "      <td>16504000.0</td>\n",
       "    </tr>\n",
       "    <tr>\n",
       "      <th>2</th>\n",
       "      <td>2005-01-05</td>\n",
       "      <td>1016.406006</td>\n",
       "      <td>1025.383057</td>\n",
       "      <td>1013.366028</td>\n",
       "      <td>1015.431030</td>\n",
       "      <td>1015.400879</td>\n",
       "      <td>22712700.0</td>\n",
       "    </tr>\n",
       "    <tr>\n",
       "      <th>3</th>\n",
       "      <td>2005-01-06</td>\n",
       "      <td>1014.866028</td>\n",
       "      <td>1029.885986</td>\n",
       "      <td>1014.866028</td>\n",
       "      <td>1029.885986</td>\n",
       "      <td>1029.855347</td>\n",
       "      <td>20900900.0</td>\n",
       "    </tr>\n",
       "    <tr>\n",
       "      <th>4</th>\n",
       "      <td>2005-01-07</td>\n",
       "      <td>1034.302979</td>\n",
       "      <td>1038.823975</td>\n",
       "      <td>1028.343994</td>\n",
       "      <td>1032.525024</td>\n",
       "      <td>1032.494385</td>\n",
       "      <td>23479000.0</td>\n",
       "    </tr>\n",
       "  </tbody>\n",
       "</table>\n",
       "</div>"
      ],
      "text/plain": [
       "         Date         Open         High          Low        Close  \\\n",
       "0  2005-01-03  1000.554016  1002.372009   994.531006  1000.877014   \n",
       "1  2005-01-04  1002.271973  1019.070984  1002.271973  1018.543030   \n",
       "2  2005-01-05  1016.406006  1025.383057  1013.366028  1015.431030   \n",
       "3  2005-01-06  1014.866028  1029.885986  1014.866028  1029.885986   \n",
       "4  2005-01-07  1034.302979  1038.823975  1028.343994  1032.525024   \n",
       "\n",
       "     Adj Close      Volume  \n",
       "0  1000.847290   4584400.0  \n",
       "1  1018.512756  16504000.0  \n",
       "2  1015.400879  22712700.0  \n",
       "3  1029.855347  20900900.0  \n",
       "4  1032.494385  23479000.0  "
      ]
     },
     "execution_count": 3,
     "metadata": {},
     "output_type": "execute_result"
    }
   ],
   "source": [
    "train_df.head()"
   ]
  },
  {
   "cell_type": "code",
   "execution_count": 4,
   "metadata": {},
   "outputs": [],
   "source": [
    "df = train_df.dropna()"
   ]
  },
  {
   "cell_type": "code",
   "execution_count": 5,
   "metadata": {},
   "outputs": [],
   "source": [
    "data = df.drop(columns=['Date'])"
   ]
  },
  {
   "cell_type": "code",
   "execution_count": 6,
   "metadata": {},
   "outputs": [
    {
     "data": {
      "text/html": [
       "<div>\n",
       "<style scoped>\n",
       "    .dataframe tbody tr th:only-of-type {\n",
       "        vertical-align: middle;\n",
       "    }\n",
       "\n",
       "    .dataframe tbody tr th {\n",
       "        vertical-align: top;\n",
       "    }\n",
       "\n",
       "    .dataframe thead th {\n",
       "        text-align: right;\n",
       "    }\n",
       "</style>\n",
       "<table border=\"1\" class=\"dataframe\">\n",
       "  <thead>\n",
       "    <tr style=\"text-align: right;\">\n",
       "      <th></th>\n",
       "      <th>Open</th>\n",
       "      <th>High</th>\n",
       "      <th>Low</th>\n",
       "      <th>Close</th>\n",
       "      <th>Adj Close</th>\n",
       "      <th>Volume</th>\n",
       "    </tr>\n",
       "  </thead>\n",
       "  <tbody>\n",
       "    <tr>\n",
       "      <th>0</th>\n",
       "      <td>1000.554016</td>\n",
       "      <td>1002.372009</td>\n",
       "      <td>994.531006</td>\n",
       "      <td>1000.877014</td>\n",
       "      <td>1000.847290</td>\n",
       "      <td>4584400.0</td>\n",
       "    </tr>\n",
       "    <tr>\n",
       "      <th>1</th>\n",
       "      <td>1002.271973</td>\n",
       "      <td>1019.070984</td>\n",
       "      <td>1002.271973</td>\n",
       "      <td>1018.543030</td>\n",
       "      <td>1018.512756</td>\n",
       "      <td>16504000.0</td>\n",
       "    </tr>\n",
       "    <tr>\n",
       "      <th>2</th>\n",
       "      <td>1016.406006</td>\n",
       "      <td>1025.383057</td>\n",
       "      <td>1013.366028</td>\n",
       "      <td>1015.431030</td>\n",
       "      <td>1015.400879</td>\n",
       "      <td>22712700.0</td>\n",
       "    </tr>\n",
       "    <tr>\n",
       "      <th>3</th>\n",
       "      <td>1014.866028</td>\n",
       "      <td>1029.885986</td>\n",
       "      <td>1014.866028</td>\n",
       "      <td>1029.885986</td>\n",
       "      <td>1029.855347</td>\n",
       "      <td>20900900.0</td>\n",
       "    </tr>\n",
       "    <tr>\n",
       "      <th>4</th>\n",
       "      <td>1034.302979</td>\n",
       "      <td>1038.823975</td>\n",
       "      <td>1028.343994</td>\n",
       "      <td>1032.525024</td>\n",
       "      <td>1032.494385</td>\n",
       "      <td>23479000.0</td>\n",
       "    </tr>\n",
       "  </tbody>\n",
       "</table>\n",
       "</div>"
      ],
      "text/plain": [
       "          Open         High          Low        Close    Adj Close      Volume\n",
       "0  1000.554016  1002.372009   994.531006  1000.877014  1000.847290   4584400.0\n",
       "1  1002.271973  1019.070984  1002.271973  1018.543030  1018.512756  16504000.0\n",
       "2  1016.406006  1025.383057  1013.366028  1015.431030  1015.400879  22712700.0\n",
       "3  1014.866028  1029.885986  1014.866028  1029.885986  1029.855347  20900900.0\n",
       "4  1034.302979  1038.823975  1028.343994  1032.525024  1032.494385  23479000.0"
      ]
     },
     "execution_count": 6,
     "metadata": {},
     "output_type": "execute_result"
    }
   ],
   "source": [
    "data.head()"
   ]
  },
  {
   "cell_type": "code",
   "execution_count": 7,
   "metadata": {},
   "outputs": [],
   "source": [
    "data_close = df[['Close']]"
   ]
  },
  {
   "cell_type": "code",
   "execution_count": 8,
   "metadata": {},
   "outputs": [],
   "source": [
    "df = (data-data.min()) / (data.max()-data.min())"
   ]
  },
  {
   "cell_type": "code",
   "execution_count": 9,
   "metadata": {},
   "outputs": [
    {
     "data": {
      "text/html": [
       "<div>\n",
       "<style scoped>\n",
       "    .dataframe tbody tr th:only-of-type {\n",
       "        vertical-align: middle;\n",
       "    }\n",
       "\n",
       "    .dataframe tbody tr th {\n",
       "        vertical-align: top;\n",
       "    }\n",
       "\n",
       "    .dataframe thead th {\n",
       "        text-align: right;\n",
       "    }\n",
       "</style>\n",
       "<table border=\"1\" class=\"dataframe\">\n",
       "  <thead>\n",
       "    <tr style=\"text-align: right;\">\n",
       "      <th></th>\n",
       "      <th>Open</th>\n",
       "      <th>High</th>\n",
       "      <th>Low</th>\n",
       "      <th>Close</th>\n",
       "      <th>Adj Close</th>\n",
       "      <th>Volume</th>\n",
       "    </tr>\n",
       "  </thead>\n",
       "  <tbody>\n",
       "    <tr>\n",
       "      <th>0</th>\n",
       "      <td>0.003937</td>\n",
       "      <td>0.000000</td>\n",
       "      <td>0.007622</td>\n",
       "      <td>0.001072</td>\n",
       "      <td>0.001072</td>\n",
       "      <td>0.000468</td>\n",
       "    </tr>\n",
       "    <tr>\n",
       "      <th>1</th>\n",
       "      <td>0.004238</td>\n",
       "      <td>0.002934</td>\n",
       "      <td>0.008984</td>\n",
       "      <td>0.004175</td>\n",
       "      <td>0.004175</td>\n",
       "      <td>0.001686</td>\n",
       "    </tr>\n",
       "    <tr>\n",
       "      <th>2</th>\n",
       "      <td>0.006714</td>\n",
       "      <td>0.004043</td>\n",
       "      <td>0.010936</td>\n",
       "      <td>0.003628</td>\n",
       "      <td>0.003628</td>\n",
       "      <td>0.002320</td>\n",
       "    </tr>\n",
       "    <tr>\n",
       "      <th>3</th>\n",
       "      <td>0.006444</td>\n",
       "      <td>0.004835</td>\n",
       "      <td>0.011200</td>\n",
       "      <td>0.006167</td>\n",
       "      <td>0.006166</td>\n",
       "      <td>0.002135</td>\n",
       "    </tr>\n",
       "    <tr>\n",
       "      <th>4</th>\n",
       "      <td>0.009849</td>\n",
       "      <td>0.006405</td>\n",
       "      <td>0.013571</td>\n",
       "      <td>0.006630</td>\n",
       "      <td>0.006630</td>\n",
       "      <td>0.002399</td>\n",
       "    </tr>\n",
       "  </tbody>\n",
       "</table>\n",
       "</div>"
      ],
      "text/plain": [
       "       Open      High       Low     Close  Adj Close    Volume\n",
       "0  0.003937  0.000000  0.007622  0.001072   0.001072  0.000468\n",
       "1  0.004238  0.002934  0.008984  0.004175   0.004175  0.001686\n",
       "2  0.006714  0.004043  0.010936  0.003628   0.003628  0.002320\n",
       "3  0.006444  0.004835  0.011200  0.006167   0.006166  0.002135\n",
       "4  0.009849  0.006405  0.013571  0.006630   0.006630  0.002399"
      ]
     },
     "execution_count": 9,
     "metadata": {},
     "output_type": "execute_result"
    }
   ],
   "source": [
    "df.head(5)"
   ]
  },
  {
   "cell_type": "code",
   "execution_count": 10,
   "metadata": {},
   "outputs": [],
   "source": [
    "train_x = df\n",
    "train_y = df[['Close']] "
   ]
  },
  {
   "cell_type": "code",
   "execution_count": 11,
   "metadata": {},
   "outputs": [
    {
     "data": {
      "text/html": [
       "<div>\n",
       "<style scoped>\n",
       "    .dataframe tbody tr th:only-of-type {\n",
       "        vertical-align: middle;\n",
       "    }\n",
       "\n",
       "    .dataframe tbody tr th {\n",
       "        vertical-align: top;\n",
       "    }\n",
       "\n",
       "    .dataframe thead th {\n",
       "        text-align: right;\n",
       "    }\n",
       "</style>\n",
       "<table border=\"1\" class=\"dataframe\">\n",
       "  <thead>\n",
       "    <tr style=\"text-align: right;\">\n",
       "      <th></th>\n",
       "      <th>Open</th>\n",
       "      <th>High</th>\n",
       "      <th>Low</th>\n",
       "      <th>Close</th>\n",
       "      <th>Adj Close</th>\n",
       "      <th>Volume</th>\n",
       "    </tr>\n",
       "  </thead>\n",
       "  <tbody>\n",
       "    <tr>\n",
       "      <th>0</th>\n",
       "      <td>0.003937</td>\n",
       "      <td>0.000000</td>\n",
       "      <td>0.007622</td>\n",
       "      <td>0.001072</td>\n",
       "      <td>0.001072</td>\n",
       "      <td>0.000468</td>\n",
       "    </tr>\n",
       "    <tr>\n",
       "      <th>1</th>\n",
       "      <td>0.004238</td>\n",
       "      <td>0.002934</td>\n",
       "      <td>0.008984</td>\n",
       "      <td>0.004175</td>\n",
       "      <td>0.004175</td>\n",
       "      <td>0.001686</td>\n",
       "    </tr>\n",
       "    <tr>\n",
       "      <th>2</th>\n",
       "      <td>0.006714</td>\n",
       "      <td>0.004043</td>\n",
       "      <td>0.010936</td>\n",
       "      <td>0.003628</td>\n",
       "      <td>0.003628</td>\n",
       "      <td>0.002320</td>\n",
       "    </tr>\n",
       "    <tr>\n",
       "      <th>3</th>\n",
       "      <td>0.006444</td>\n",
       "      <td>0.004835</td>\n",
       "      <td>0.011200</td>\n",
       "      <td>0.006167</td>\n",
       "      <td>0.006166</td>\n",
       "      <td>0.002135</td>\n",
       "    </tr>\n",
       "    <tr>\n",
       "      <th>4</th>\n",
       "      <td>0.009849</td>\n",
       "      <td>0.006405</td>\n",
       "      <td>0.013571</td>\n",
       "      <td>0.006630</td>\n",
       "      <td>0.006630</td>\n",
       "      <td>0.002399</td>\n",
       "    </tr>\n",
       "  </tbody>\n",
       "</table>\n",
       "</div>"
      ],
      "text/plain": [
       "       Open      High       Low     Close  Adj Close    Volume\n",
       "0  0.003937  0.000000  0.007622  0.001072   0.001072  0.000468\n",
       "1  0.004238  0.002934  0.008984  0.004175   0.004175  0.001686\n",
       "2  0.006714  0.004043  0.010936  0.003628   0.003628  0.002320\n",
       "3  0.006444  0.004835  0.011200  0.006167   0.006166  0.002135\n",
       "4  0.009849  0.006405  0.013571  0.006630   0.006630  0.002399"
      ]
     },
     "execution_count": 11,
     "metadata": {},
     "output_type": "execute_result"
    }
   ],
   "source": [
    "train_x.head()"
   ]
  },
  {
   "cell_type": "code",
   "execution_count": 12,
   "metadata": {},
   "outputs": [
    {
     "data": {
      "text/html": [
       "<div>\n",
       "<style scoped>\n",
       "    .dataframe tbody tr th:only-of-type {\n",
       "        vertical-align: middle;\n",
       "    }\n",
       "\n",
       "    .dataframe tbody tr th {\n",
       "        vertical-align: top;\n",
       "    }\n",
       "\n",
       "    .dataframe thead th {\n",
       "        text-align: right;\n",
       "    }\n",
       "</style>\n",
       "<table border=\"1\" class=\"dataframe\">\n",
       "  <thead>\n",
       "    <tr style=\"text-align: right;\">\n",
       "      <th></th>\n",
       "      <th>Close</th>\n",
       "    </tr>\n",
       "  </thead>\n",
       "  <tbody>\n",
       "    <tr>\n",
       "      <th>0</th>\n",
       "      <td>0.001072</td>\n",
       "    </tr>\n",
       "    <tr>\n",
       "      <th>1</th>\n",
       "      <td>0.004175</td>\n",
       "    </tr>\n",
       "    <tr>\n",
       "      <th>2</th>\n",
       "      <td>0.003628</td>\n",
       "    </tr>\n",
       "    <tr>\n",
       "      <th>3</th>\n",
       "      <td>0.006167</td>\n",
       "    </tr>\n",
       "    <tr>\n",
       "      <th>4</th>\n",
       "      <td>0.006630</td>\n",
       "    </tr>\n",
       "  </tbody>\n",
       "</table>\n",
       "</div>"
      ],
      "text/plain": [
       "      Close\n",
       "0  0.001072\n",
       "1  0.004175\n",
       "2  0.003628\n",
       "3  0.006167\n",
       "4  0.006630"
      ]
     },
     "execution_count": 12,
     "metadata": {},
     "output_type": "execute_result"
    }
   ],
   "source": [
    "train_y.head()"
   ]
  },
  {
   "cell_type": "code",
   "execution_count": 13,
   "metadata": {},
   "outputs": [],
   "source": [
    "from keras.models import Sequential\n",
    "from keras.layers import Dense\n",
    "from keras.callbacks import EarlyStopping\n",
    "from keras.layers import Dropout\n",
    "from keras.models import load_model"
   ]
  },
  {
   "cell_type": "code",
   "execution_count": 14,
   "metadata": {},
   "outputs": [],
   "source": [
    "#membuat model\n",
    "regressor = Sequential()"
   ]
  },
  {
   "cell_type": "code",
   "execution_count": 15,
   "metadata": {},
   "outputs": [],
   "source": [
    "#get number of columns in training data\n",
    "n_cols = train_x.shape[1]"
   ]
  },
  {
   "cell_type": "code",
   "execution_count": 16,
   "metadata": {},
   "outputs": [],
   "source": [
    "#adding the input layer and the first hidden layer and drop our regularization\n",
    "regressor.add(Dense(units = 500, kernel_initializer = 'uniform', activation = 'relu', input_shape=(n_cols,)))\n",
    "regressor.add(Dropout(.2))"
   ]
  },
  {
   "cell_type": "code",
   "execution_count": 17,
   "metadata": {},
   "outputs": [],
   "source": [
    "#adding the output layer\n",
    "regressor.add(Dense(units = 1, kernel_initializer = 'uniform', activation = 'sigmoid'))"
   ]
  },
  {
   "cell_type": "code",
   "execution_count": 18,
   "metadata": {},
   "outputs": [],
   "source": [
    "#compiling the NN\n",
    "regressor.compile(optimizer = 'adam', loss = 'mean_squared_error')"
   ]
  },
  {
   "cell_type": "code",
   "execution_count": 19,
   "metadata": {},
   "outputs": [
    {
     "name": "stdout",
     "output_type": "stream",
     "text": [
      "Epoch 1/50\n",
      "84/84 [==============================] - 1s 7ms/step - loss: 0.0394 - val_loss: 0.0015\n",
      "Epoch 2/50\n",
      "84/84 [==============================] - 0s 3ms/step - loss: 0.0024 - val_loss: 0.0012\n",
      "Epoch 3/50\n",
      "84/84 [==============================] - 0s 3ms/step - loss: 0.0012 - val_loss: 0.0012\n",
      "Epoch 4/50\n",
      "84/84 [==============================] - 0s 3ms/step - loss: 6.7958e-04 - val_loss: 0.0018\n",
      "Epoch 5/50\n",
      "84/84 [==============================] - 0s 3ms/step - loss: 4.3812e-04 - val_loss: 0.0022\n",
      "Epoch 6/50\n",
      "84/84 [==============================] - 0s 3ms/step - loss: 3.2868e-04 - val_loss: 0.0027\n",
      "Epoch 7/50\n",
      "84/84 [==============================] - 0s 3ms/step - loss: 2.5759e-04 - val_loss: 0.0038\n",
      "Epoch 8/50\n",
      "84/84 [==============================] - 0s 3ms/step - loss: 2.2080e-04 - val_loss: 0.0052\n",
      "Epoch 9/50\n",
      "84/84 [==============================] - 0s 3ms/step - loss: 1.9696e-04 - val_loss: 0.0064\n",
      "Epoch 10/50\n",
      "84/84 [==============================] - 0s 3ms/step - loss: 1.8143e-04 - val_loss: 0.0069\n",
      "Epoch 11/50\n",
      "84/84 [==============================] - 0s 3ms/step - loss: 1.7164e-04 - val_loss: 0.0069\n",
      "Epoch 12/50\n",
      "84/84 [==============================] - 0s 3ms/step - loss: 1.6783e-04 - val_loss: 0.0069\n",
      "Epoch 13/50\n",
      "84/84 [==============================] - 0s 3ms/step - loss: 1.6879e-04 - val_loss: 0.0069\n",
      "Epoch 14/50\n",
      "84/84 [==============================] - 0s 3ms/step - loss: 1.6958e-04 - val_loss: 0.0070\n",
      "Epoch 15/50\n",
      "84/84 [==============================] - 0s 3ms/step - loss: 1.6014e-04 - val_loss: 0.0070\n",
      "Epoch 16/50\n",
      "84/84 [==============================] - 0s 3ms/step - loss: 1.6298e-04 - val_loss: 0.0065\n",
      "Epoch 17/50\n",
      "84/84 [==============================] - 0s 3ms/step - loss: 1.5401e-04 - val_loss: 0.0066\n",
      "Epoch 18/50\n",
      "84/84 [==============================] - 0s 3ms/step - loss: 1.5500e-04 - val_loss: 0.0066\n",
      "Epoch 19/50\n",
      "84/84 [==============================] - 0s 3ms/step - loss: 1.4737e-04 - val_loss: 0.0072\n",
      "Epoch 20/50\n",
      "84/84 [==============================] - 0s 3ms/step - loss: 1.5744e-04 - val_loss: 0.0071\n",
      "Epoch 21/50\n",
      "84/84 [==============================] - 0s 3ms/step - loss: 1.5686e-04 - val_loss: 0.00675e\n",
      "Epoch 22/50\n",
      "84/84 [==============================] - 0s 3ms/step - loss: 1.4832e-04 - val_loss: 0.0069\n",
      "Epoch 23/50\n",
      "84/84 [==============================] - 0s 3ms/step - loss: 1.4559e-04 - val_loss: 0.0071\n",
      "Epoch 24/50\n",
      "84/84 [==============================] - 0s 3ms/step - loss: 1.5811e-04 - val_loss: 0.0077\n",
      "Epoch 25/50\n",
      "84/84 [==============================] - 0s 3ms/step - loss: 1.5709e-04 - val_loss: 0.0064\n",
      "Epoch 26/50\n",
      "84/84 [==============================] - 0s 3ms/step - loss: 1.6022e-04 - val_loss: 0.0067\n",
      "Epoch 27/50\n",
      "84/84 [==============================] - 0s 3ms/step - loss: 1.5544e-04 - val_loss: 0.0065\n",
      "Epoch 28/50\n",
      "84/84 [==============================] - 0s 3ms/step - loss: 1.5116e-04 - val_loss: 0.0070\n",
      "Epoch 29/50\n",
      "84/84 [==============================] - 0s 3ms/step - loss: 1.6300e-04 - val_loss: 0.0065\n",
      "Epoch 30/50\n",
      "84/84 [==============================] - 0s 3ms/step - loss: 1.4802e-04 - val_loss: 0.0066\n",
      "Epoch 31/50\n",
      "84/84 [==============================] - 0s 3ms/step - loss: 1.4770e-04 - val_loss: 0.0064\n",
      "Epoch 32/50\n",
      "84/84 [==============================] - 0s 3ms/step - loss: 1.3605e-04 - val_loss: 0.0065\n",
      "Epoch 33/50\n",
      "84/84 [==============================] - 0s 3ms/step - loss: 1.3945e-04 - val_loss: 0.0068\n",
      "Epoch 34/50\n",
      "84/84 [==============================] - 0s 3ms/step - loss: 1.4204e-04 - val_loss: 0.0065\n",
      "Epoch 35/50\n",
      "84/84 [==============================] - 0s 3ms/step - loss: 1.3658e-04 - val_loss: 0.0069\n",
      "Epoch 36/50\n",
      "84/84 [==============================] - 0s 3ms/step - loss: 1.2753e-04 - val_loss: 0.0069\n",
      "Epoch 37/50\n",
      "84/84 [==============================] - 0s 3ms/step - loss: 1.6268e-04 - val_loss: 0.0063\n",
      "Epoch 38/50\n",
      "84/84 [==============================] - 0s 3ms/step - loss: 1.4302e-04 - val_loss: 0.0065\n",
      "Epoch 39/50\n",
      "84/84 [==============================] - 0s 3ms/step - loss: 1.3018e-04 - val_loss: 0.0066\n",
      "Epoch 40/50\n",
      "84/84 [==============================] - 0s 3ms/step - loss: 1.3530e-04 - val_loss: 0.0069\n",
      "Epoch 41/50\n",
      "84/84 [==============================] - 0s 3ms/step - loss: 1.3895e-04 - val_loss: 0.0068\n",
      "Epoch 42/50\n",
      "84/84 [==============================] - 0s 3ms/step - loss: 1.3644e-04 - val_loss: 0.0062\n",
      "Epoch 43/50\n",
      "84/84 [==============================] - 0s 3ms/step - loss: 1.3763e-04 - val_loss: 0.0066\n",
      "Epoch 44/50\n",
      "84/84 [==============================] - 0s 3ms/step - loss: 1.3852e-04 - val_loss: 0.0065\n",
      "Epoch 45/50\n",
      "84/84 [==============================] - 0s 3ms/step - loss: 1.3729e-04 - val_loss: 0.0061\n",
      "Epoch 46/50\n",
      "84/84 [==============================] - 0s 3ms/step - loss: 1.2533e-04 - val_loss: 0.0062\n",
      "Epoch 47/50\n",
      "84/84 [==============================] - 0s 3ms/step - loss: 1.3726e-04 - val_loss: 0.0059\n",
      "Epoch 48/50\n",
      "84/84 [==============================] - 0s 3ms/step - loss: 1.2691e-04 - val_loss: 0.0066\n",
      "Epoch 49/50\n",
      "84/84 [==============================] - 0s 3ms/step - loss: 1.2762e-04 - val_loss: 0.0060\n",
      "Epoch 50/50\n",
      "84/84 [==============================] - 0s 3ms/step - loss: 1.3203e-04 - val_loss: 0.0062\n"
     ]
    },
    {
     "data": {
      "text/plain": [
       "<tensorflow.python.keras.callbacks.History at 0x28949633730>"
      ]
     },
     "execution_count": 19,
     "metadata": {},
     "output_type": "execute_result"
    }
   ],
   "source": [
    "#fitting the NN to the training set\n",
    "regressor.fit(train_x, train_y, validation_split=0.3, epochs =50)"
   ]
  },
  {
   "cell_type": "code",
   "execution_count": 20,
   "metadata": {},
   "outputs": [],
   "source": [
    "#save trained model\n",
    "regressor.save('model.h5')"
   ]
  },
  {
   "cell_type": "code",
   "execution_count": 21,
   "metadata": {},
   "outputs": [],
   "source": [
    "#read in data using pandas\n",
    "test_df = pd.read_csv('datasaham.csv')"
   ]
  },
  {
   "cell_type": "code",
   "execution_count": 22,
   "metadata": {},
   "outputs": [
    {
     "data": {
      "text/html": [
       "<div>\n",
       "<style scoped>\n",
       "    .dataframe tbody tr th:only-of-type {\n",
       "        vertical-align: middle;\n",
       "    }\n",
       "\n",
       "    .dataframe tbody tr th {\n",
       "        vertical-align: top;\n",
       "    }\n",
       "\n",
       "    .dataframe thead th {\n",
       "        text-align: right;\n",
       "    }\n",
       "</style>\n",
       "<table border=\"1\" class=\"dataframe\">\n",
       "  <thead>\n",
       "    <tr style=\"text-align: right;\">\n",
       "      <th></th>\n",
       "      <th>Date</th>\n",
       "      <th>Open</th>\n",
       "      <th>High</th>\n",
       "      <th>Low</th>\n",
       "      <th>Close</th>\n",
       "      <th>Adj Close</th>\n",
       "      <th>Volume</th>\n",
       "    </tr>\n",
       "  </thead>\n",
       "  <tbody>\n",
       "    <tr>\n",
       "      <th>0</th>\n",
       "      <td>2005-01-03</td>\n",
       "      <td>1000.554016</td>\n",
       "      <td>1002.372009</td>\n",
       "      <td>994.531006</td>\n",
       "      <td>1000.877014</td>\n",
       "      <td>1000.847290</td>\n",
       "      <td>4584400.0</td>\n",
       "    </tr>\n",
       "    <tr>\n",
       "      <th>1</th>\n",
       "      <td>2005-01-04</td>\n",
       "      <td>1002.271973</td>\n",
       "      <td>1019.070984</td>\n",
       "      <td>1002.271973</td>\n",
       "      <td>1018.543030</td>\n",
       "      <td>1018.512756</td>\n",
       "      <td>16504000.0</td>\n",
       "    </tr>\n",
       "    <tr>\n",
       "      <th>2</th>\n",
       "      <td>2005-01-05</td>\n",
       "      <td>1016.406006</td>\n",
       "      <td>1025.383057</td>\n",
       "      <td>1013.366028</td>\n",
       "      <td>1015.431030</td>\n",
       "      <td>1015.400879</td>\n",
       "      <td>22712700.0</td>\n",
       "    </tr>\n",
       "    <tr>\n",
       "      <th>3</th>\n",
       "      <td>2005-01-06</td>\n",
       "      <td>1014.866028</td>\n",
       "      <td>1029.885986</td>\n",
       "      <td>1014.866028</td>\n",
       "      <td>1029.885986</td>\n",
       "      <td>1029.855347</td>\n",
       "      <td>20900900.0</td>\n",
       "    </tr>\n",
       "    <tr>\n",
       "      <th>4</th>\n",
       "      <td>2005-01-07</td>\n",
       "      <td>1034.302979</td>\n",
       "      <td>1038.823975</td>\n",
       "      <td>1028.343994</td>\n",
       "      <td>1032.525024</td>\n",
       "      <td>1032.494385</td>\n",
       "      <td>23479000.0</td>\n",
       "    </tr>\n",
       "  </tbody>\n",
       "</table>\n",
       "</div>"
      ],
      "text/plain": [
       "         Date         Open         High          Low        Close  \\\n",
       "0  2005-01-03  1000.554016  1002.372009   994.531006  1000.877014   \n",
       "1  2005-01-04  1002.271973  1019.070984  1002.271973  1018.543030   \n",
       "2  2005-01-05  1016.406006  1025.383057  1013.366028  1015.431030   \n",
       "3  2005-01-06  1014.866028  1029.885986  1014.866028  1029.885986   \n",
       "4  2005-01-07  1034.302979  1038.823975  1028.343994  1032.525024   \n",
       "\n",
       "     Adj Close      Volume  \n",
       "0  1000.847290   4584400.0  \n",
       "1  1018.512756  16504000.0  \n",
       "2  1015.400879  22712700.0  \n",
       "3  1029.855347  20900900.0  \n",
       "4  1032.494385  23479000.0  "
      ]
     },
     "execution_count": 22,
     "metadata": {},
     "output_type": "execute_result"
    }
   ],
   "source": [
    "test_df.head()"
   ]
  },
  {
   "cell_type": "code",
   "execution_count": 23,
   "metadata": {},
   "outputs": [],
   "source": [
    "#delete NaN\n",
    "test_data = test_df.dropna()"
   ]
  },
  {
   "cell_type": "code",
   "execution_count": 24,
   "metadata": {},
   "outputs": [],
   "source": [
    "#drop date\n",
    "test_data = test_df.drop(columns=['Date'])\n",
    "data_test_close = test_df[['Close']]"
   ]
  },
  {
   "cell_type": "code",
   "execution_count": 25,
   "metadata": {},
   "outputs": [],
   "source": [
    "#normalization\n",
    "nor = (test_data-test_data.min())/(test_data.max()-test_data.min())"
   ]
  },
  {
   "cell_type": "code",
   "execution_count": 26,
   "metadata": {},
   "outputs": [],
   "source": [
    "#create a dataframe with all training data except the target columns\n",
    "test_x = nor"
   ]
  },
  {
   "cell_type": "code",
   "execution_count": 27,
   "metadata": {},
   "outputs": [],
   "source": [
    "#create a dataframe with only the target column\n",
    "test_y = nor[['Close']]"
   ]
  },
  {
   "cell_type": "code",
   "execution_count": 28,
   "metadata": {},
   "outputs": [],
   "source": [
    "import matplotlib.pyplot as plt\n",
    "\n",
    "#load trained model\n",
    "regressor = load_model('model.h5')\n",
    "\n",
    "#predict and test the model\n",
    "input_data = test_x.values\n",
    "real_close_price = test_y.values\n",
    "\n",
    "predicted_close_price = regressor.predict(input_data)"
   ]
  },
  {
   "cell_type": "code",
   "execution_count": 29,
   "metadata": {},
   "outputs": [
    {
     "data": {
      "image/png": "[encoded data removed]",
      "text/plain": [
       "<Figure size 432x288 with 1 Axes>"
      ]
     },
     "metadata": {
      "needs_background": "light"
     },
     "output_type": "display_data"
    },
    {
     "name": "stdout",
     "output_type": "stream",
     "text": [
      "Mean Square Error:  0.000959823944969874\n"
     ]
    }
   ],
   "source": [
    "target = real_close_price[~np.isnan(real_close_price)]\n",
    "predict = predicted_close_price[~np.isnan(real_close_price)]\n",
    "plt.plot(target)\n",
    "plt.plot(predict, '--')\n",
    "plt.title('Stock Price Prediction')\n",
    "plt.xlabel('Index')\n",
    "plt.ylabel('Stock Price')\n",
    "plt.show()\n",
    "\n",
    "def mse(predictions, targets):\n",
    "    return 0.5 * (((predictions - targets) ** 2).mean())\n",
    "\n",
    "#mse = ((real_close_price - predicted_close_price) ** 2).mean(axis=1)\n",
    "print('Mean Square Error: ',mse(predict.flatten(),target.flatten()))"
   ]
  },
  {
   "cell_type": "code",
   "execution_count": null,
   "metadata": {},
   "outputs": [],
   "source": []
  }
 ],
 "metadata": {
  "kernelspec": {
   "display_name": "Python 3",
   "language": "python",
   "name": "python3"
  },
  "language_info": {
   "codemirror_mode": {
    "name": "ipython",
    "version": 3
   },
   "file_extension": ".py",
   "mimetype": "text/x-python",
   "name": "python",
   "nbconvert_exporter": "python",
   "pygments_lexer": "ipython3",
   "version": "3.8.3"
  }
 },
 "nbformat": 4,
 "nbformat_minor": 4
}
